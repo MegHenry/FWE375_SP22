{
 "cells": [
  {
   "cell_type": "markdown",
   "id": "a58d9f8b",
   "metadata": {},
   "source": [
    "# Lecture 7 Python packages: numpy and pandas (1)\n",
    "\n",
    "We have learned basic python data structures: list, tuple, set and dictionary.\n",
    "In this class, we are going to learn additional two data structures, numpy and pandas, which were more commonly used in scientific research. \n",
    "\n",
    "## if you are familar with matlab or R\n",
    "### numpy is similar as matlab (array, matrix)\n",
    "### pandas is similar as R (data frame)"
   ]
  },
  {
   "cell_type": "code",
   "execution_count": 3,
   "id": "7f871110",
   "metadata": {},
   "outputs": [
    {
     "name": "stdout",
     "output_type": "stream",
     "text": [
      "[1.  2.  3.4 5. ]\n",
      "<class 'numpy.ndarray'>\n",
      "[0 1 2 3 4]\n",
      "[0 0 0 0 0 0 0 0 0 0]\n",
      "[0. 2. 4. 6. 8.]\n",
      "[0. 0. 0. 0. 0. 0. 0. 0. 0. 0.]\n",
      "[10. 10. 10. 10. 10. 10. 10. 10. 10. 10.]\n",
      "[nan nan nan nan nan nan nan nan nan nan]\n"
     ]
    }
   ],
   "source": [
    "# to use numpy, we need to import the numpy package\n",
    "import numpy as np\n",
    "\n",
    "# ways to create a numpy array\n",
    "A = np.array([1, 2, 3.4, 5])\n",
    "print(A)\n",
    "print(type(A))\n",
    "\n",
    "A = np.arange(0, 5, 1, dtype=int)\n",
    "print(A)\n",
    "\n",
    "A = np.arange(0, 5, 0.5, dtype=int)\n",
    "print(A)\n",
    "\n",
    "A = np.linspace(0, 10, 5, endpoint=False)\n",
    "print(A)\n",
    "\n",
    "A = np.zeros(10)\n",
    "print(A)\n",
    "\n",
    "A = np.ones(10) * 10\n",
    "print(A)\n",
    "\n",
    "B = np.empty(10)\n",
    "B[:] = np.nan\n",
    "print(B)"
   ]
  },
  {
   "cell_type": "code",
   "execution_count": 58,
   "id": "05fb7642",
   "metadata": {},
   "outputs": [
    {
     "name": "stdout",
     "output_type": "stream",
     "text": [
      "[[1 2 3 4]\n",
      " [2 4 5 6]]\n",
      "<class 'numpy.ndarray'>\n",
      "(2, 4)\n",
      "3.375\n",
      "27\n",
      "3.5\n",
      "1.5761900266148114\n",
      "3.375\n"
     ]
    }
   ],
   "source": [
    "# create a 2D array\n",
    "A = np.array([[1, 2, 3, 4],[2, 4, 5, 6]])\n",
    "print(A)\n",
    "print(type(A))\n",
    "print(A.shape)\n",
    "print(np.nanmean(A))\n",
    "print(np.sum(A))\n",
    "print(np.median(A))\n",
    "print(np.std(A))\n",
    "print(np.mean(A))\n",
    "\n",
    "# what if there is a nan value in A?"
   ]
  },
  {
   "cell_type": "code",
   "execution_count": 67,
   "id": "5410dc46",
   "metadata": {},
   "outputs": [
    {
     "data": {
      "text/plain": [
       "(2,)"
      ]
     },
     "execution_count": 67,
     "metadata": {},
     "output_type": "execute_result"
    }
   ],
   "source": [
    "# index for a 2D array\n",
    "A = np.array([[1, 2, 3, 4],[2, 4, 5, 6]])\n",
    "A[0,1]\n",
    "A[1,]\n",
    "B = A[:,2]\n",
    "B.shape"
   ]
  },
  {
   "cell_type": "code",
   "execution_count": 122,
   "id": "7ccdc532",
   "metadata": {},
   "outputs": [
    {
     "name": "stdout",
     "output_type": "stream",
     "text": [
      "[ 0.  1.  2.  3.  4.  5.  6.  7.  8.  9. 10.]\n",
      "[ 3.  4.  5.  6.  7.  8.  9. 10. 11. 12. 13.]\n",
      "[20.  21.3 22.6 23.9 25.2 26.5 27.8 29.1 30.4 31.7 33. ]\n"
     ]
    }
   ],
   "source": [
    "# math operations\n",
    "A = np.linspace(0, 10, 11)\n",
    "print(A)\n",
    "B = A + 3\n",
    "print(B)\n",
    "C = A * 1.3 + 20\n",
    "print(C)"
   ]
  },
  {
   "cell_type": "code",
   "execution_count": 84,
   "id": "7f67fd3f",
   "metadata": {},
   "outputs": [
    {
     "name": "stdout",
     "output_type": "stream",
     "text": [
      "MaunaLoaCO2_monthly.txt\n"
     ]
    },
    {
     "data": {
      "text/plain": [
       "[<matplotlib.lines.Line2D at 0x7fb294901700>]"
      ]
     },
     "execution_count": 84,
     "metadata": {},
     "output_type": "execute_result"
    },
    {
     "data": {
      "image/png": "[encoded data removed]",
      "text/plain": [
       "<Figure size 432x288 with 1 Axes>"
      ]
     },
     "metadata": {
      "needs_background": "light"
     },
     "output_type": "display_data"
    }
   ],
   "source": [
    "# load data from a txt file\n",
    "fname = \"MaunaLoaCO2_monthly.txt\"\n",
    "print(fname)\n",
    "A = np.loadtxt(fname)\n",
    "A.shape\n",
    "\n",
    "import matplotlib.pyplot as plt \n",
    "plt.plot(A[:,2], A[:,3], 'o')"
   ]
  },
  {
   "cell_type": "code",
   "execution_count": 125,
   "id": "59c2dad2",
   "metadata": {},
   "outputs": [
    {
     "data": {
      "text/plain": [
       "[<matplotlib.lines.Line2D at 0x7fb280353490>]"
      ]
     },
     "execution_count": 125,
     "metadata": {},
     "output_type": "execute_result"
    },
    {
     "data": {
      "image/png": "[encoded data removed]",
      "text/plain": [
       "<Figure size 432x288 with 1 Axes>"
      ]
     },
     "metadata": {
      "needs_background": "light"
     },
     "output_type": "display_data"
    }
   ],
   "source": [
    "# subset data\n",
    "fname = \"MaunaLoaCO2_monthly.txt\"\n",
    "A = np.loadtxt(fname)\n",
    "A.shape\n",
    "\n",
    "B = A[A[:,2]>2015, :]\n",
    "B.shape\n",
    "\n",
    "import matplotlib.pyplot as plt \n",
    "plt.plot(B[:,2], B[:,3], '-o')\n"
   ]
  },
  {
   "cell_type": "code",
   "execution_count": 2,
   "id": "06b34f7d",
   "metadata": {},
   "outputs": [
    {
     "ename": "NameError",
     "evalue": "name 'np' is not defined",
     "output_type": "error",
     "traceback": [
      "\u001b[0;31m---------------------------------------------------------------------------\u001b[0m",
      "\u001b[0;31mNameError\u001b[0m                                 Traceback (most recent call last)",
      "\u001b[0;32m/var/folders/cq/d8h3wnqx5yd2tjl34nkmynr80000gn/T/ipykernel_65753/1377883513.py\u001b[0m in \u001b[0;36m<module>\u001b[0;34m\u001b[0m\n\u001b[1;32m      1\u001b[0m \u001b[0;31m# subset data\u001b[0m\u001b[0;34m\u001b[0m\u001b[0;34m\u001b[0m\u001b[0m\n\u001b[1;32m      2\u001b[0m \u001b[0mfname\u001b[0m \u001b[0;34m=\u001b[0m \u001b[0;34m\"MaunaLoaCO2_monthly.txt\"\u001b[0m\u001b[0;34m\u001b[0m\u001b[0;34m\u001b[0m\u001b[0m\n\u001b[0;32m----> 3\u001b[0;31m \u001b[0mA\u001b[0m \u001b[0;34m=\u001b[0m \u001b[0mnp\u001b[0m\u001b[0;34m.\u001b[0m\u001b[0mloadtxt\u001b[0m\u001b[0;34m(\u001b[0m\u001b[0mfname\u001b[0m\u001b[0;34m)\u001b[0m\u001b[0;34m\u001b[0m\u001b[0;34m\u001b[0m\u001b[0m\n\u001b[0m\u001b[1;32m      4\u001b[0m \u001b[0mA\u001b[0m\u001b[0;34m.\u001b[0m\u001b[0mshape\u001b[0m\u001b[0;34m\u001b[0m\u001b[0;34m\u001b[0m\u001b[0m\n\u001b[1;32m      5\u001b[0m \u001b[0;34m\u001b[0m\u001b[0m\n",
      "\u001b[0;31mNameError\u001b[0m: name 'np' is not defined"
     ]
    }
   ],
   "source": [
    "# subset data\n",
    "fname = \"MaunaLoaCO2_monthly.txt\"\n",
    "A = np.loadtxt(fname)\n",
    "A.shape\n",
    "\n",
    "B = A[A[:,2]>2015, :]\n",
    "B.shape\n",
    "\n",
    "import matplotlib.pyplot as plt \n",
    "plt.plot(B[:,2], B[:,3] - B[0,3], '-o')"
   ]
  },
  {
   "cell_type": "code",
   "execution_count": 8,
   "id": "69c93401",
   "metadata": {},
   "outputs": [
    {
     "name": "stdout",
     "output_type": "stream",
     "text": [
      "0\n",
      "10\n",
      "20\n",
      "30\n",
      "40\n",
      "50\n",
      "60\n",
      "70\n",
      "80\n",
      "90\n",
      "100\n",
      "110\n",
      "120\n",
      "130\n",
      "140\n",
      "150\n",
      "160\n",
      "170\n",
      "180\n",
      "190\n",
      "200\n",
      "210\n",
      "220\n",
      "230\n",
      "240\n",
      "250\n",
      "260\n",
      "270\n",
      "280\n",
      "290\n",
      "300\n",
      "310\n",
      "320\n",
      "330\n",
      "340\n",
      "350\n",
      "360\n",
      "370\n",
      "380\n",
      "390\n",
      "400\n",
      "410\n",
      "420\n",
      "430\n",
      "440\n",
      "450\n",
      "460\n",
      "470\n",
      "480\n",
      "490\n",
      "500\n",
      "510\n",
      "520\n",
      "530\n",
      "540\n",
      "550\n",
      "560\n",
      "570\n",
      "580\n",
      "590\n",
      "600\n",
      "610\n",
      "620\n",
      "630\n",
      "640\n",
      "650\n",
      "660\n",
      "670\n",
      "680\n",
      "690\n",
      "700\n",
      "710\n"
     ]
    }
   ],
   "source": [
    "# read a 2D dataset\n",
    "fname = \"globalelev.txt\"\n",
    "elev = np.loadtxt(fname)\n",
    "nlat,nlon = elev.shape\n",
    "\n",
    "#import seaborn as sns\n",
    "#ax = sns.heatmap(elev)\n",
    "\n",
    "#for i in range(0, nlat, 10):\n",
    "#    for j in range(0, nlon, 10):"
   ]
  },
  {
   "cell_type": "code",
   "execution_count": 117,
   "id": "c85ad3fd",
   "metadata": {},
   "outputs": [
    {
     "name": "stdout",
     "output_type": "stream",
     "text": [
      "[35.42420028] [81.18137596]\n"
     ]
    }
   ],
   "source": [
    "# find the highest place in the world\n",
    "x, y = np.where(elev == np.amax(elev))\n",
    "Lat = np.linspace(90, -90, 720)\n",
    "Lon = np.linspace(-180, 180, 1440)\n",
    "print(Lat[x], Lon[y])"
   ]
  },
  {
   "cell_type": "code",
   "execution_count": 95,
   "id": "8ca1c79c",
   "metadata": {},
   "outputs": [
    {
     "data": {
      "text/plain": [
       "[<matplotlib.lines.Line2D at 0x7fb294dc6520>]"
      ]
     },
     "execution_count": 95,
     "metadata": {},
     "output_type": "execute_result"
    },
    {
     "data": {
      "image/png": "[encoded data removed]",
      "text/plain": [
       "<Figure size 432x288 with 1 Axes>"
      ]
     },
     "metadata": {
      "needs_background": "light"
     },
     "output_type": "display_data"
    }
   ],
   "source": [
    "# read data from a csv file\n",
    "fname = \"MaunaLoaCO2_monthly.csv\"\n",
    "A = np.loadtxt(fname, delimiter=',', skiprows=1)\n",
    "\n",
    "B = A[A[:,2]>2015, :]\n",
    "B.shape\n",
    "\n",
    "import matplotlib.pyplot as plt \n",
    "plt.plot(B[:,2], B[:,3], '-o')"
   ]
  },
  {
   "cell_type": "code",
   "execution_count": 96,
   "id": "27a7d4f3",
   "metadata": {},
   "outputs": [
    {
     "ename": "ValueError",
     "evalue": "could not convert string to float: 'MaunaLoa'",
     "output_type": "error",
     "traceback": [
      "\u001b[0;31m---------------------------------------------------------------------------\u001b[0m",
      "\u001b[0;31mValueError\u001b[0m                                Traceback (most recent call last)",
      "\u001b[0;32m/var/folders/5z/gl6s_gjx0z348sf6tz0gx2hw0000gn/T/ipykernel_3357/1518385741.py\u001b[0m in \u001b[0;36m<module>\u001b[0;34m\u001b[0m\n\u001b[1;32m      1\u001b[0m \u001b[0;31m# read data from a csv file\u001b[0m\u001b[0;34m\u001b[0m\u001b[0;34m\u001b[0m\u001b[0m\n\u001b[1;32m      2\u001b[0m \u001b[0mfname\u001b[0m \u001b[0;34m=\u001b[0m \u001b[0;34m\"MaunaLoaCO2_monthly_sitename.csv\"\u001b[0m\u001b[0;34m\u001b[0m\u001b[0;34m\u001b[0m\u001b[0m\n\u001b[0;32m----> 3\u001b[0;31m \u001b[0mA\u001b[0m \u001b[0;34m=\u001b[0m \u001b[0mnp\u001b[0m\u001b[0;34m.\u001b[0m\u001b[0mloadtxt\u001b[0m\u001b[0;34m(\u001b[0m\u001b[0mfname\u001b[0m\u001b[0;34m,\u001b[0m \u001b[0mdelimiter\u001b[0m\u001b[0;34m=\u001b[0m\u001b[0;34m','\u001b[0m\u001b[0;34m,\u001b[0m \u001b[0mskiprows\u001b[0m\u001b[0;34m=\u001b[0m\u001b[0;36m1\u001b[0m\u001b[0;34m)\u001b[0m\u001b[0;34m\u001b[0m\u001b[0;34m\u001b[0m\u001b[0m\n\u001b[0m\u001b[1;32m      4\u001b[0m \u001b[0;34m\u001b[0m\u001b[0m\n\u001b[1;32m      5\u001b[0m \u001b[0mB\u001b[0m \u001b[0;34m=\u001b[0m \u001b[0mA\u001b[0m\u001b[0;34m[\u001b[0m\u001b[0mA\u001b[0m\u001b[0;34m[\u001b[0m\u001b[0;34m:\u001b[0m\u001b[0;34m,\u001b[0m\u001b[0;36m2\u001b[0m\u001b[0;34m]\u001b[0m\u001b[0;34m>\u001b[0m\u001b[0;36m2015\u001b[0m\u001b[0;34m,\u001b[0m \u001b[0;34m:\u001b[0m\u001b[0;34m]\u001b[0m\u001b[0;34m\u001b[0m\u001b[0;34m\u001b[0m\u001b[0m\n",
      "\u001b[0;32m/opt/anaconda3/lib/python3.9/site-packages/numpy/lib/npyio.py\u001b[0m in \u001b[0;36mloadtxt\u001b[0;34m(fname, dtype, comments, delimiter, converters, skiprows, usecols, unpack, ndmin, encoding, max_rows, like)\u001b[0m\n\u001b[1;32m   1144\u001b[0m         \u001b[0;31m# converting the data\u001b[0m\u001b[0;34m\u001b[0m\u001b[0;34m\u001b[0m\u001b[0m\n\u001b[1;32m   1145\u001b[0m         \u001b[0mX\u001b[0m \u001b[0;34m=\u001b[0m \u001b[0;32mNone\u001b[0m\u001b[0;34m\u001b[0m\u001b[0;34m\u001b[0m\u001b[0m\n\u001b[0;32m-> 1146\u001b[0;31m         \u001b[0;32mfor\u001b[0m \u001b[0mx\u001b[0m \u001b[0;32min\u001b[0m \u001b[0mread_data\u001b[0m\u001b[0;34m(\u001b[0m\u001b[0m_loadtxt_chunksize\u001b[0m\u001b[0;34m)\u001b[0m\u001b[0;34m:\u001b[0m\u001b[0;34m\u001b[0m\u001b[0;34m\u001b[0m\u001b[0m\n\u001b[0m\u001b[1;32m   1147\u001b[0m             \u001b[0;32mif\u001b[0m \u001b[0mX\u001b[0m \u001b[0;32mis\u001b[0m \u001b[0;32mNone\u001b[0m\u001b[0;34m:\u001b[0m\u001b[0;34m\u001b[0m\u001b[0;34m\u001b[0m\u001b[0m\n\u001b[1;32m   1148\u001b[0m                 \u001b[0mX\u001b[0m \u001b[0;34m=\u001b[0m \u001b[0mnp\u001b[0m\u001b[0;34m.\u001b[0m\u001b[0marray\u001b[0m\u001b[0;34m(\u001b[0m\u001b[0mx\u001b[0m\u001b[0;34m,\u001b[0m \u001b[0mdtype\u001b[0m\u001b[0;34m)\u001b[0m\u001b[0;34m\u001b[0m\u001b[0;34m\u001b[0m\u001b[0m\n",
      "\u001b[0;32m/opt/anaconda3/lib/python3.9/site-packages/numpy/lib/npyio.py\u001b[0m in \u001b[0;36mread_data\u001b[0;34m(chunk_size)\u001b[0m\n\u001b[1;32m    995\u001b[0m \u001b[0;34m\u001b[0m\u001b[0m\n\u001b[1;32m    996\u001b[0m             \u001b[0;31m# Convert each value according to its column and store\u001b[0m\u001b[0;34m\u001b[0m\u001b[0;34m\u001b[0m\u001b[0m\n\u001b[0;32m--> 997\u001b[0;31m             \u001b[0mitems\u001b[0m \u001b[0;34m=\u001b[0m \u001b[0;34m[\u001b[0m\u001b[0mconv\u001b[0m\u001b[0;34m(\u001b[0m\u001b[0mval\u001b[0m\u001b[0;34m)\u001b[0m \u001b[0;32mfor\u001b[0m \u001b[0;34m(\u001b[0m\u001b[0mconv\u001b[0m\u001b[0;34m,\u001b[0m \u001b[0mval\u001b[0m\u001b[0;34m)\u001b[0m \u001b[0;32min\u001b[0m \u001b[0mzip\u001b[0m\u001b[0;34m(\u001b[0m\u001b[0mconverters\u001b[0m\u001b[0;34m,\u001b[0m \u001b[0mvals\u001b[0m\u001b[0;34m)\u001b[0m\u001b[0;34m]\u001b[0m\u001b[0;34m\u001b[0m\u001b[0;34m\u001b[0m\u001b[0m\n\u001b[0m\u001b[1;32m    998\u001b[0m \u001b[0;34m\u001b[0m\u001b[0m\n\u001b[1;32m    999\u001b[0m             \u001b[0;31m# Then pack it according to the dtype's nesting\u001b[0m\u001b[0;34m\u001b[0m\u001b[0;34m\u001b[0m\u001b[0m\n",
      "\u001b[0;32m/opt/anaconda3/lib/python3.9/site-packages/numpy/lib/npyio.py\u001b[0m in \u001b[0;36m<listcomp>\u001b[0;34m(.0)\u001b[0m\n\u001b[1;32m    995\u001b[0m \u001b[0;34m\u001b[0m\u001b[0m\n\u001b[1;32m    996\u001b[0m             \u001b[0;31m# Convert each value according to its column and store\u001b[0m\u001b[0;34m\u001b[0m\u001b[0;34m\u001b[0m\u001b[0m\n\u001b[0;32m--> 997\u001b[0;31m             \u001b[0mitems\u001b[0m \u001b[0;34m=\u001b[0m \u001b[0;34m[\u001b[0m\u001b[0mconv\u001b[0m\u001b[0;34m(\u001b[0m\u001b[0mval\u001b[0m\u001b[0;34m)\u001b[0m \u001b[0;32mfor\u001b[0m \u001b[0;34m(\u001b[0m\u001b[0mconv\u001b[0m\u001b[0;34m,\u001b[0m \u001b[0mval\u001b[0m\u001b[0;34m)\u001b[0m \u001b[0;32min\u001b[0m \u001b[0mzip\u001b[0m\u001b[0;34m(\u001b[0m\u001b[0mconverters\u001b[0m\u001b[0;34m,\u001b[0m \u001b[0mvals\u001b[0m\u001b[0;34m)\u001b[0m\u001b[0;34m]\u001b[0m\u001b[0;34m\u001b[0m\u001b[0;34m\u001b[0m\u001b[0m\n\u001b[0m\u001b[1;32m    998\u001b[0m \u001b[0;34m\u001b[0m\u001b[0m\n\u001b[1;32m    999\u001b[0m             \u001b[0;31m# Then pack it according to the dtype's nesting\u001b[0m\u001b[0;34m\u001b[0m\u001b[0;34m\u001b[0m\u001b[0m\n",
      "\u001b[0;32m/opt/anaconda3/lib/python3.9/site-packages/numpy/lib/npyio.py\u001b[0m in \u001b[0;36mfloatconv\u001b[0;34m(x)\u001b[0m\n\u001b[1;32m    732\u001b[0m         \u001b[0;32mif\u001b[0m \u001b[0;34m'0x'\u001b[0m \u001b[0;32min\u001b[0m \u001b[0mx\u001b[0m\u001b[0;34m:\u001b[0m\u001b[0;34m\u001b[0m\u001b[0;34m\u001b[0m\u001b[0m\n\u001b[1;32m    733\u001b[0m             \u001b[0;32mreturn\u001b[0m \u001b[0mfloat\u001b[0m\u001b[0;34m.\u001b[0m\u001b[0mfromhex\u001b[0m\u001b[0;34m(\u001b[0m\u001b[0mx\u001b[0m\u001b[0;34m)\u001b[0m\u001b[0;34m\u001b[0m\u001b[0;34m\u001b[0m\u001b[0m\n\u001b[0;32m--> 734\u001b[0;31m         \u001b[0;32mreturn\u001b[0m \u001b[0mfloat\u001b[0m\u001b[0;34m(\u001b[0m\u001b[0mx\u001b[0m\u001b[0;34m)\u001b[0m\u001b[0;34m\u001b[0m\u001b[0;34m\u001b[0m\u001b[0m\n\u001b[0m\u001b[1;32m    735\u001b[0m \u001b[0;34m\u001b[0m\u001b[0m\n\u001b[1;32m    736\u001b[0m     \u001b[0mtyp\u001b[0m \u001b[0;34m=\u001b[0m \u001b[0mdtype\u001b[0m\u001b[0;34m.\u001b[0m\u001b[0mtype\u001b[0m\u001b[0;34m\u001b[0m\u001b[0;34m\u001b[0m\u001b[0m\n",
      "\u001b[0;31mValueError\u001b[0m: could not convert string to float: 'MaunaLoa'"
     ]
    }
   ],
   "source": [
    "# read data from a csv file\n",
    "fname = \"MaunaLoaCO2_monthly_sitename.csv\"\n",
    "A = np.loadtxt(fname, delimiter=',', skiprows=1)\n",
    "\n",
    "B = A[A[:,2]>2015, :]\n",
    "B.shape\n",
    "\n",
    "import matplotlib.pyplot as plt \n",
    "plt.plot(B[:,2], B[:,3], '-o')"
   ]
  },
  {
   "cell_type": "code",
   "execution_count": 155,
   "id": "40aa5b90",
   "metadata": {},
   "outputs": [
    {
     "name": "stdout",
     "output_type": "stream",
     "text": [
      "     Year  Month  Decimal_date  Monthly_average  deseasonalized  numofdays  \\\n",
      "0    1958      3     1958.2027           315.70          314.43         -1   \n",
      "1    1958      4     1958.2877           317.45          315.16         -1   \n",
      "2    1958      5     1958.3699           317.51          314.71         -1   \n",
      "3    1958      6     1958.4548           317.24          315.14         -1   \n",
      "4    1958      7     1958.5370           315.86          315.18         -1   \n",
      "..    ...    ...           ...              ...             ...        ...   \n",
      "762  2021      9     2021.7083           413.30          416.90         27   \n",
      "763  2021     10     2021.7917           413.93          417.30         29   \n",
      "764  2021     11     2021.8750           415.01          417.07         30   \n",
      "765  2021     12     2021.9583           416.71          417.44         28   \n",
      "766  2022      1     2022.0417           418.19          417.87         29   \n",
      "\n",
      "     stdofdays      site  \n",
      "0        -9.99  MaunaLoa  \n",
      "1        -9.99  MaunaLoa  \n",
      "2        -9.99  MaunaLoa  \n",
      "3        -9.99  MaunaLoa  \n",
      "4        -9.99  MaunaLoa  \n",
      "..         ...       ...  \n",
      "762       0.29  MaunaLoa  \n",
      "763       0.35  MaunaLoa  \n",
      "764       0.36  MaunaLoa  \n",
      "765       0.48  MaunaLoa  \n",
      "766       0.75  MaunaLoa  \n",
      "\n",
      "[767 rows x 8 columns]\n"
     ]
    }
   ],
   "source": [
    "# Pandas\n",
    "import pandas as pd\n",
    "\n",
    "fname = \"MaunaLoaCO2_monthly_sitename.csv\"\n",
    "DF = pd.read_csv(fname)\n",
    "\n",
    "print(DF)"
   ]
  },
  {
   "cell_type": "code",
   "execution_count": 156,
   "id": "e783e464",
   "metadata": {},
   "outputs": [
    {
     "name": "stdout",
     "output_type": "stream",
     "text": [
      "<class 'pandas.core.frame.DataFrame'>\n",
      "<class 'pandas.core.series.Series'>\n"
     ]
    },
    {
     "data": {
      "image/png": "[encoded data removed]",
      "text/plain": [
       "<Figure size 432x288 with 1 Axes>"
      ]
     },
     "metadata": {
      "needs_background": "light"
     },
     "output_type": "display_data"
    }
   ],
   "source": [
    "import matplotlib.pyplot as plt \n",
    "plt.plot(DF[[\"Decimal_date\"]], DF[[\"Monthly_average\"]], 'o')\n",
    "\n",
    "# note the difference between DF[[\"Decimal_date\"]] and DF[\"Decimal_date\"]\n",
    "print(type(DF[[\"Decimal_date\"]]))\n",
    "print(type(DF[\"Decimal_date\"]))\n"
   ]
  },
  {
   "cell_type": "code",
   "execution_count": 137,
   "id": "1aaa059f",
   "metadata": {},
   "outputs": [
    {
     "name": "stdout",
     "output_type": "stream",
     "text": [
      "1958\n"
     ]
    },
    {
     "data": {
      "text/plain": [
       "[<matplotlib.lines.Line2D at 0x7fb28040b940>]"
      ]
     },
     "execution_count": 137,
     "metadata": {},
     "output_type": "execute_result"
    },
    {
     "data": {
      "image/png": "[encoded data removed]",
      "text/plain": [
       "<Figure size 432x288 with 1 Axes>"
      ]
     },
     "metadata": {
      "needs_background": "light"
     },
     "output_type": "display_data"
    }
   ],
   "source": [
    "# Select Data Using Location Index (.iloc)\n",
    "# use .iloc to select individual rows and \n",
    "# columns or a series of rows and columns \n",
    "# by providing the range (i.e. start and \n",
    "# stop locations along the rows and columns) \n",
    "# that you want to select.\n",
    "\n",
    "print(DF.iloc[0,0])\n",
    "\n",
    "import matplotlib.pyplot as plt \n",
    "plt.plot(DF.iloc[:, 2], DF.iloc[:, 3], 'o')"
   ]
  },
  {
   "cell_type": "code",
   "execution_count": 139,
   "id": "69b0a9de",
   "metadata": {},
   "outputs": [
    {
     "data": {
      "text/html": [
       "<div>\n",
       "<style scoped>\n",
       "    .dataframe tbody tr th:only-of-type {\n",
       "        vertical-align: middle;\n",
       "    }\n",
       "\n",
       "    .dataframe tbody tr th {\n",
       "        vertical-align: top;\n",
       "    }\n",
       "\n",
       "    .dataframe thead th {\n",
       "        text-align: right;\n",
       "    }\n",
       "</style>\n",
       "<table border=\"1\" class=\"dataframe\">\n",
       "  <thead>\n",
       "    <tr style=\"text-align: right;\">\n",
       "      <th></th>\n",
       "      <th>Month</th>\n",
       "      <th>Decimal_date</th>\n",
       "      <th>Monthly_average</th>\n",
       "      <th>deseasonalized</th>\n",
       "      <th>numofdays</th>\n",
       "      <th>stdofdays</th>\n",
       "      <th>site</th>\n",
       "    </tr>\n",
       "    <tr>\n",
       "      <th>Year</th>\n",
       "      <th></th>\n",
       "      <th></th>\n",
       "      <th></th>\n",
       "      <th></th>\n",
       "      <th></th>\n",
       "      <th></th>\n",
       "      <th></th>\n",
       "    </tr>\n",
       "  </thead>\n",
       "  <tbody>\n",
       "    <tr>\n",
       "      <th>1958</th>\n",
       "      <td>3</td>\n",
       "      <td>1958.2027</td>\n",
       "      <td>315.70</td>\n",
       "      <td>314.43</td>\n",
       "      <td>-1</td>\n",
       "      <td>-9.99</td>\n",
       "      <td>MaunaLoa</td>\n",
       "    </tr>\n",
       "    <tr>\n",
       "      <th>1958</th>\n",
       "      <td>4</td>\n",
       "      <td>1958.2877</td>\n",
       "      <td>317.45</td>\n",
       "      <td>315.16</td>\n",
       "      <td>-1</td>\n",
       "      <td>-9.99</td>\n",
       "      <td>MaunaLoa</td>\n",
       "    </tr>\n",
       "    <tr>\n",
       "      <th>1958</th>\n",
       "      <td>5</td>\n",
       "      <td>1958.3699</td>\n",
       "      <td>317.51</td>\n",
       "      <td>314.71</td>\n",
       "      <td>-1</td>\n",
       "      <td>-9.99</td>\n",
       "      <td>MaunaLoa</td>\n",
       "    </tr>\n",
       "    <tr>\n",
       "      <th>1958</th>\n",
       "      <td>6</td>\n",
       "      <td>1958.4548</td>\n",
       "      <td>317.24</td>\n",
       "      <td>315.14</td>\n",
       "      <td>-1</td>\n",
       "      <td>-9.99</td>\n",
       "      <td>MaunaLoa</td>\n",
       "    </tr>\n",
       "    <tr>\n",
       "      <th>1958</th>\n",
       "      <td>7</td>\n",
       "      <td>1958.5370</td>\n",
       "      <td>315.86</td>\n",
       "      <td>315.18</td>\n",
       "      <td>-1</td>\n",
       "      <td>-9.99</td>\n",
       "      <td>MaunaLoa</td>\n",
       "    </tr>\n",
       "    <tr>\n",
       "      <th>...</th>\n",
       "      <td>...</td>\n",
       "      <td>...</td>\n",
       "      <td>...</td>\n",
       "      <td>...</td>\n",
       "      <td>...</td>\n",
       "      <td>...</td>\n",
       "      <td>...</td>\n",
       "    </tr>\n",
       "    <tr>\n",
       "      <th>2021</th>\n",
       "      <td>9</td>\n",
       "      <td>2021.7083</td>\n",
       "      <td>413.30</td>\n",
       "      <td>416.90</td>\n",
       "      <td>27</td>\n",
       "      <td>0.29</td>\n",
       "      <td>MaunaLoa</td>\n",
       "    </tr>\n",
       "    <tr>\n",
       "      <th>2021</th>\n",
       "      <td>10</td>\n",
       "      <td>2021.7917</td>\n",
       "      <td>413.93</td>\n",
       "      <td>417.30</td>\n",
       "      <td>29</td>\n",
       "      <td>0.35</td>\n",
       "      <td>MaunaLoa</td>\n",
       "    </tr>\n",
       "    <tr>\n",
       "      <th>2021</th>\n",
       "      <td>11</td>\n",
       "      <td>2021.8750</td>\n",
       "      <td>415.01</td>\n",
       "      <td>417.07</td>\n",
       "      <td>30</td>\n",
       "      <td>0.36</td>\n",
       "      <td>MaunaLoa</td>\n",
       "    </tr>\n",
       "    <tr>\n",
       "      <th>2021</th>\n",
       "      <td>12</td>\n",
       "      <td>2021.9583</td>\n",
       "      <td>416.71</td>\n",
       "      <td>417.44</td>\n",
       "      <td>28</td>\n",
       "      <td>0.48</td>\n",
       "      <td>MaunaLoa</td>\n",
       "    </tr>\n",
       "    <tr>\n",
       "      <th>2022</th>\n",
       "      <td>1</td>\n",
       "      <td>2022.0417</td>\n",
       "      <td>418.19</td>\n",
       "      <td>417.87</td>\n",
       "      <td>29</td>\n",
       "      <td>0.75</td>\n",
       "      <td>MaunaLoa</td>\n",
       "    </tr>\n",
       "  </tbody>\n",
       "</table>\n",
       "<p>767 rows × 7 columns</p>\n",
       "</div>"
      ],
      "text/plain": [
       "      Month  Decimal_date  Monthly_average  deseasonalized  numofdays  \\\n",
       "Year                                                                    \n",
       "1958      3     1958.2027           315.70          314.43         -1   \n",
       "1958      4     1958.2877           317.45          315.16         -1   \n",
       "1958      5     1958.3699           317.51          314.71         -1   \n",
       "1958      6     1958.4548           317.24          315.14         -1   \n",
       "1958      7     1958.5370           315.86          315.18         -1   \n",
       "...     ...           ...              ...             ...        ...   \n",
       "2021      9     2021.7083           413.30          416.90         27   \n",
       "2021     10     2021.7917           413.93          417.30         29   \n",
       "2021     11     2021.8750           415.01          417.07         30   \n",
       "2021     12     2021.9583           416.71          417.44         28   \n",
       "2022      1     2022.0417           418.19          417.87         29   \n",
       "\n",
       "      stdofdays      site  \n",
       "Year                       \n",
       "1958      -9.99  MaunaLoa  \n",
       "1958      -9.99  MaunaLoa  \n",
       "1958      -9.99  MaunaLoa  \n",
       "1958      -9.99  MaunaLoa  \n",
       "1958      -9.99  MaunaLoa  \n",
       "...         ...       ...  \n",
       "2021       0.29  MaunaLoa  \n",
       "2021       0.35  MaunaLoa  \n",
       "2021       0.36  MaunaLoa  \n",
       "2021       0.48  MaunaLoa  \n",
       "2022       0.75  MaunaLoa  \n",
       "\n",
       "[767 rows x 7 columns]"
      ]
     },
     "execution_count": 139,
     "metadata": {},
     "output_type": "execute_result"
    }
   ],
   "source": [
    "yi = DF.set_index(\"Year\")\n",
    "yi"
   ]
  },
  {
   "cell_type": "code",
   "execution_count": 175,
   "id": "fb3ee744",
   "metadata": {},
   "outputs": [
    {
     "data": {
      "text/html": [
       "<div>\n",
       "<style scoped>\n",
       "    .dataframe tbody tr th:only-of-type {\n",
       "        vertical-align: middle;\n",
       "    }\n",
       "\n",
       "    .dataframe tbody tr th {\n",
       "        vertical-align: top;\n",
       "    }\n",
       "\n",
       "    .dataframe thead th {\n",
       "        text-align: right;\n",
       "    }\n",
       "</style>\n",
       "<table border=\"1\" class=\"dataframe\">\n",
       "  <thead>\n",
       "    <tr style=\"text-align: right;\">\n",
       "      <th></th>\n",
       "      <th>Month</th>\n",
       "      <th>Decimal_date</th>\n",
       "      <th>Monthly_average</th>\n",
       "      <th>deseasonalized</th>\n",
       "      <th>numofdays</th>\n",
       "      <th>stdofdays</th>\n",
       "      <th>site</th>\n",
       "    </tr>\n",
       "    <tr>\n",
       "      <th>Year</th>\n",
       "      <th></th>\n",
       "      <th></th>\n",
       "      <th></th>\n",
       "      <th></th>\n",
       "      <th></th>\n",
       "      <th></th>\n",
       "      <th></th>\n",
       "    </tr>\n",
       "  </thead>\n",
       "  <tbody>\n",
       "    <tr>\n",
       "      <th>1958</th>\n",
       "      <td>3</td>\n",
       "      <td>1958.2027</td>\n",
       "      <td>315.70</td>\n",
       "      <td>314.43</td>\n",
       "      <td>-1</td>\n",
       "      <td>-9.99</td>\n",
       "      <td>MaunaLoa</td>\n",
       "    </tr>\n",
       "    <tr>\n",
       "      <th>1958</th>\n",
       "      <td>4</td>\n",
       "      <td>1958.2877</td>\n",
       "      <td>317.45</td>\n",
       "      <td>315.16</td>\n",
       "      <td>-1</td>\n",
       "      <td>-9.99</td>\n",
       "      <td>MaunaLoa</td>\n",
       "    </tr>\n",
       "    <tr>\n",
       "      <th>1958</th>\n",
       "      <td>5</td>\n",
       "      <td>1958.3699</td>\n",
       "      <td>317.51</td>\n",
       "      <td>314.71</td>\n",
       "      <td>-1</td>\n",
       "      <td>-9.99</td>\n",
       "      <td>MaunaLoa</td>\n",
       "    </tr>\n",
       "    <tr>\n",
       "      <th>1958</th>\n",
       "      <td>6</td>\n",
       "      <td>1958.4548</td>\n",
       "      <td>317.24</td>\n",
       "      <td>315.14</td>\n",
       "      <td>-1</td>\n",
       "      <td>-9.99</td>\n",
       "      <td>MaunaLoa</td>\n",
       "    </tr>\n",
       "    <tr>\n",
       "      <th>1958</th>\n",
       "      <td>7</td>\n",
       "      <td>1958.5370</td>\n",
       "      <td>315.86</td>\n",
       "      <td>315.18</td>\n",
       "      <td>-1</td>\n",
       "      <td>-9.99</td>\n",
       "      <td>MaunaLoa</td>\n",
       "    </tr>\n",
       "    <tr>\n",
       "      <th>1958</th>\n",
       "      <td>8</td>\n",
       "      <td>1958.6219</td>\n",
       "      <td>314.93</td>\n",
       "      <td>316.18</td>\n",
       "      <td>-1</td>\n",
       "      <td>-9.99</td>\n",
       "      <td>MaunaLoa</td>\n",
       "    </tr>\n",
       "    <tr>\n",
       "      <th>1958</th>\n",
       "      <td>9</td>\n",
       "      <td>1958.7068</td>\n",
       "      <td>313.20</td>\n",
       "      <td>316.08</td>\n",
       "      <td>-1</td>\n",
       "      <td>-9.99</td>\n",
       "      <td>MaunaLoa</td>\n",
       "    </tr>\n",
       "    <tr>\n",
       "      <th>1958</th>\n",
       "      <td>10</td>\n",
       "      <td>1958.7890</td>\n",
       "      <td>312.43</td>\n",
       "      <td>315.41</td>\n",
       "      <td>-1</td>\n",
       "      <td>-9.99</td>\n",
       "      <td>MaunaLoa</td>\n",
       "    </tr>\n",
       "    <tr>\n",
       "      <th>1958</th>\n",
       "      <td>11</td>\n",
       "      <td>1958.8740</td>\n",
       "      <td>313.33</td>\n",
       "      <td>315.20</td>\n",
       "      <td>-1</td>\n",
       "      <td>-9.99</td>\n",
       "      <td>MaunaLoa</td>\n",
       "    </tr>\n",
       "    <tr>\n",
       "      <th>1958</th>\n",
       "      <td>12</td>\n",
       "      <td>1958.9562</td>\n",
       "      <td>314.67</td>\n",
       "      <td>315.43</td>\n",
       "      <td>-1</td>\n",
       "      <td>-9.99</td>\n",
       "      <td>MaunaLoa</td>\n",
       "    </tr>\n",
       "  </tbody>\n",
       "</table>\n",
       "</div>"
      ],
      "text/plain": [
       "      Month  Decimal_date  Monthly_average  deseasonalized  numofdays  \\\n",
       "Year                                                                    \n",
       "1958      3     1958.2027           315.70          314.43         -1   \n",
       "1958      4     1958.2877           317.45          315.16         -1   \n",
       "1958      5     1958.3699           317.51          314.71         -1   \n",
       "1958      6     1958.4548           317.24          315.14         -1   \n",
       "1958      7     1958.5370           315.86          315.18         -1   \n",
       "1958      8     1958.6219           314.93          316.18         -1   \n",
       "1958      9     1958.7068           313.20          316.08         -1   \n",
       "1958     10     1958.7890           312.43          315.41         -1   \n",
       "1958     11     1958.8740           313.33          315.20         -1   \n",
       "1958     12     1958.9562           314.67          315.43         -1   \n",
       "\n",
       "      stdofdays      site  \n",
       "Year                       \n",
       "1958      -9.99  MaunaLoa  \n",
       "1958      -9.99  MaunaLoa  \n",
       "1958      -9.99  MaunaLoa  \n",
       "1958      -9.99  MaunaLoa  \n",
       "1958      -9.99  MaunaLoa  \n",
       "1958      -9.99  MaunaLoa  \n",
       "1958      -9.99  MaunaLoa  \n",
       "1958      -9.99  MaunaLoa  \n",
       "1958      -9.99  MaunaLoa  \n",
       "1958      -9.99  MaunaLoa  "
      ]
     },
     "execution_count": 175,
     "metadata": {},
     "output_type": "execute_result"
    }
   ],
   "source": [
    "yi.loc[[1958]]"
   ]
  },
  {
   "cell_type": "code",
   "execution_count": 177,
   "id": "c1eacd0c",
   "metadata": {},
   "outputs": [
    {
     "data": {
      "text/html": [
       "<div>\n",
       "<style scoped>\n",
       "    .dataframe tbody tr th:only-of-type {\n",
       "        vertical-align: middle;\n",
       "    }\n",
       "\n",
       "    .dataframe tbody tr th {\n",
       "        vertical-align: top;\n",
       "    }\n",
       "\n",
       "    .dataframe thead th {\n",
       "        text-align: right;\n",
       "    }\n",
       "</style>\n",
       "<table border=\"1\" class=\"dataframe\">\n",
       "  <thead>\n",
       "    <tr style=\"text-align: right;\">\n",
       "      <th></th>\n",
       "      <th>Monthly_average</th>\n",
       "      <th>site</th>\n",
       "    </tr>\n",
       "  </thead>\n",
       "  <tbody>\n",
       "    <tr>\n",
       "      <th>10</th>\n",
       "      <td>315.58</td>\n",
       "      <td>MaunaLoa</td>\n",
       "    </tr>\n",
       "    <tr>\n",
       "      <th>22</th>\n",
       "      <td>316.43</td>\n",
       "      <td>MaunaLoa</td>\n",
       "    </tr>\n",
       "    <tr>\n",
       "      <th>34</th>\n",
       "      <td>316.89</td>\n",
       "      <td>MaunaLoa</td>\n",
       "    </tr>\n",
       "    <tr>\n",
       "      <th>46</th>\n",
       "      <td>317.94</td>\n",
       "      <td>MaunaLoa</td>\n",
       "    </tr>\n",
       "    <tr>\n",
       "      <th>58</th>\n",
       "      <td>318.74</td>\n",
       "      <td>MaunaLoa</td>\n",
       "    </tr>\n",
       "    <tr>\n",
       "      <th>...</th>\n",
       "      <td>...</td>\n",
       "      <td>...</td>\n",
       "    </tr>\n",
       "    <tr>\n",
       "      <th>718</th>\n",
       "      <td>408.15</td>\n",
       "      <td>MaunaLoa</td>\n",
       "    </tr>\n",
       "    <tr>\n",
       "      <th>730</th>\n",
       "      <td>411.03</td>\n",
       "      <td>MaunaLoa</td>\n",
       "    </tr>\n",
       "    <tr>\n",
       "      <th>742</th>\n",
       "      <td>413.61</td>\n",
       "      <td>MaunaLoa</td>\n",
       "    </tr>\n",
       "    <tr>\n",
       "      <th>754</th>\n",
       "      <td>415.52</td>\n",
       "      <td>MaunaLoa</td>\n",
       "    </tr>\n",
       "    <tr>\n",
       "      <th>766</th>\n",
       "      <td>418.19</td>\n",
       "      <td>MaunaLoa</td>\n",
       "    </tr>\n",
       "  </tbody>\n",
       "</table>\n",
       "<p>64 rows × 2 columns</p>\n",
       "</div>"
      ],
      "text/plain": [
       "     Monthly_average      site\n",
       "10            315.58  MaunaLoa\n",
       "22            316.43  MaunaLoa\n",
       "34            316.89  MaunaLoa\n",
       "46            317.94  MaunaLoa\n",
       "58            318.74  MaunaLoa\n",
       "..               ...       ...\n",
       "718           408.15  MaunaLoa\n",
       "730           411.03  MaunaLoa\n",
       "742           413.61  MaunaLoa\n",
       "754           415.52  MaunaLoa\n",
       "766           418.19  MaunaLoa\n",
       "\n",
       "[64 rows x 2 columns]"
      ]
     },
     "execution_count": 177,
     "metadata": {},
     "output_type": "execute_result"
    }
   ],
   "source": [
    "DF\n",
    "DF.loc[(DF[\"Month\"] == 1), [\"Monthly_average\", \"site\"]]\n"
   ]
  },
  {
   "cell_type": "markdown",
   "id": "fbb5d36f",
   "metadata": {},
   "source": [
    "# Homework 3\n",
    "## Due time: before the class on Feb 22, 2022\n",
    "\n",
    "## A\n",
    "\n",
    "- review https://www.earthdatascience.org/courses/intro-to-earth-data-science/scientific-data-structures-python/\n",
    "\n",
    "## B\n",
    " - Import the Mauna Loa CO2 data (MaunaLoaCO2_monthly_sitename.csv) used in Class as a pandas data frame. (1 pt)\n",
    " - Create a new data frame with columns \"Year\", \"annual_average\", \"deseasonalized_annual_average\", \"std_of_months\" (1 pt)\n",
    " - exclude the years of 1958 and 2022 (1 pt)\n",
    " - exclude the years in which \"numofdays\" or \"stdofdays\" are filled values (e.g., negative values) (1 pt)\n",
    " -  Calculate the annual average CO2 concentration from the \"Monthly_average\" values, and store it in the column of \"annual_average\" (1 pt)\n",
    " -  Calculate the annual average deseasonalized CO2 concentration from the \"deseasonalized\" values, and store it in the column of \"deseasonalized_annual_average\" (1 pt)\n",
    " - caculate the standard deviation of the 12-month values for each year and put it into the column of \"std_of_months\" (1 pt)\n",
    " - Detailed comments (2 pt)\n",
    " - save the new data frame into a csv file named as YourLastName_MaunaLoaCO2_annual_Hw3.csv\n",
    " - push your code and the saved csv file to your private github repo as last time.\n",
    "\n",
    "### Hint: google is your friend if you don't know how to carry out the required manipulations\n",
    "\n",
    "## C\n",
    " - Write a short description of a dataset that you wish to bring it to the class and use it as an example for data analysis in a Jupyter Notebook Markdown. Name it as YourLastName_mydata.ipynb. Please describe what kind of data analysis you want to perfrom with your data (write \"no idea\" if you really don't know). I will choose some of them to be used in our class. (1 pt)\n",
    "  \n"
   ]
  },
  {
   "cell_type": "code",
   "execution_count": 205,
   "id": "09bced25",
   "metadata": {},
   "outputs": [
    {
     "name": "stdout",
     "output_type": "stream",
     "text": [
      "1974\n",
      "1975\n",
      "1976\n",
      "1977\n",
      "1978\n",
      "1979\n",
      "1980\n",
      "1981\n",
      "1982\n",
      "1983\n",
      "1984\n",
      "1985\n",
      "1986\n",
      "1987\n",
      "1988\n",
      "1989\n",
      "1990\n",
      "1991\n",
      "1992\n",
      "1993\n",
      "1994\n",
      "1995\n",
      "1996\n",
      "1997\n",
      "1998\n",
      "1999\n",
      "2000\n",
      "2001\n",
      "2002\n",
      "2003\n",
      "2004\n",
      "2005\n",
      "2006\n",
      "2007\n",
      "2008\n",
      "2009\n",
      "2010\n",
      "2011\n",
      "2012\n",
      "2013\n",
      "2014\n",
      "2015\n",
      "2016\n",
      "2017\n",
      "2018\n",
      "2019\n",
      "2020\n",
      "2021\n",
      "2022\n",
      "Empty DataFrame\n",
      "Columns: [Year, annual_average, deseasonalized_annual_average, std_of_months]\n",
      "Index: []\n"
     ]
    }
   ],
   "source": [
    "\n"
   ]
  },
  {
   "cell_type": "code",
   "execution_count": null,
   "id": "aeb4e812",
   "metadata": {},
   "outputs": [],
   "source": []
  },
  {
   "cell_type": "code",
   "execution_count": null,
   "id": "d13c5c22",
   "metadata": {},
   "outputs": [],
   "source": []
  }
 ],
 "metadata": {
  "kernelspec": {
   "display_name": "Python 3 (ipykernel)",
   "language": "python",
   "name": "python3"
  },
  "language_info": {
   "codemirror_mode": {
    "name": "ipython",
    "version": 3
   },
   "file_extension": ".py",
   "mimetype": "text/x-python",
   "name": "python",
   "nbconvert_exporter": "python",
   "pygments_lexer": "ipython3",
   "version": "3.9.7"
  }
 },
 "nbformat": 4,
 "nbformat_minor": 5
}
