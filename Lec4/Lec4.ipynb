{
 "cells": [
  {
   "cell_type": "markdown",
   "id": "d07789e7",
   "metadata": {},
   "source": [
    "# FWE 375 Environmental Data Science\n",
    "## Spring 2022\n",
    "## Lecture 3 Fundamentals of Python programming 2\n",
    "\n",
    "Today we will go through the basics of controlling workflow with conditional statement and loop.\n",
    "\n",
    "Conditional statement is quite common in our daily life. For example, I must show my UW ID to attend the university's faculty senate meeting. I show my UW ID to the secretary of the meeting, and she can only let me go into the meeting hall after confirming that my name is in the invitation list."
   ]
  },
  {
   "cell_type": "code",
   "execution_count": 2,
   "id": "12f0c974",
   "metadata": {},
   "outputs": [
    {
     "name": "stdout",
     "output_type": "stream",
     "text": [
      "Welcome, B !\n"
     ]
    }
   ],
   "source": [
    "# The list storing the names of faculty senators\n",
    "fs_names = [\"A\", \"B\", \"C\", \"D\"]\n",
    "\n",
    "my_name = \"B\"\n",
    "if my_name in fs_names:\n",
    "    print(\"Welcome,\", my_name, \"!\")\n",
    "else:\n",
    "    print(\"Sorry, you are not in the list!\")\n",
    "    "
   ]
  },
  {
   "cell_type": "code",
   "execution_count": 3,
   "id": "01040fe8",
   "metadata": {},
   "outputs": [
    {
     "name": "stdout",
     "output_type": "stream",
     "text": [
      "b win!\n",
      "a= 3 b= 3\n"
     ]
    }
   ],
   "source": [
    "# paper scissors rock\n",
    "import random\n",
    "random.seed()\n",
    "a = random.randint(1,3)\n",
    "b = random.randint(1,3)\n",
    "if a > b:\n",
    "    print(\"a win!\")\n",
    "else:\n",
    "    print(\"b win!\")\n",
    "print(\"a=\", a, \"b=\", b)"
   ]
  },
  {
   "cell_type": "code",
   "execution_count": 4,
   "id": "b764449f",
   "metadata": {},
   "outputs": [
    {
     "name": "stdout",
     "output_type": "stream",
     "text": [
      "nobody wins.\n",
      "a= 1 b= 1\n"
     ]
    }
   ],
   "source": [
    "import random\n",
    "random.seed()\n",
    "a = random.randint(1,3)\n",
    "b = random.randint(1,3)\n",
    "if a > b:\n",
    "    print(\"a win!\")\n",
    "elif a == b:\n",
    "    print(\"nobody wins.\")\n",
    "else:\n",
    "    print(\"b win!\")\n",
    "print(\"a=\", a, \"b=\", b)"
   ]
  },
  {
   "cell_type": "markdown",
   "id": "1eee1cc2",
   "metadata": {},
   "source": [
    "From Python 3.10, \"match...case...\" is supported"
   ]
  },
  {
   "cell_type": "code",
   "execution_count": 5,
   "id": "f4ed450c",
   "metadata": {},
   "outputs": [
    {
     "ename": "SyntaxError",
     "evalue": "invalid syntax (1482580171.py, line 8)",
     "output_type": "error",
     "traceback": [
      "\u001b[0;36m  File \u001b[0;32m\"/var/folders/cq/d8h3wnqx5yd2tjl34nkmynr80000gn/T/ipykernel_15256/1482580171.py\"\u001b[0;36m, line \u001b[0;32m8\u001b[0m\n\u001b[0;31m    match a:\u001b[0m\n\u001b[0m          ^\u001b[0m\n\u001b[0;31mSyntaxError\u001b[0m\u001b[0;31m:\u001b[0m invalid syntax\n"
     ]
    }
   ],
   "source": [
    "# a match ... case ... example\n",
    "\n",
    "import random\n",
    "random.seed()\n",
    "a = random.randint(1,100)\n",
    "\n",
    "a = 1\n",
    "match a:\n",
    "    case 1:\n",
    "        print(\"John!\")\n",
    "    case 2:\n",
    "        print(\"Brendon!\")\n",
    "    case 3:\n",
    "        print(\"Megan!\")\n",
    "    case 4:\n",
    "        print(\"Nick!\")\n",
    "    case 5 or 6:\n",
    "        print(\"Morgan!\")\n",
    "    case _:\n",
    "        print(\"I am tired!\")"
   ]
  },
  {
   "cell_type": "code",
   "execution_count": 9,
   "id": "30dcf23d",
   "metadata": {},
   "outputs": [
    {
     "name": "stdout",
     "output_type": "stream",
     "text": [
      "DAMN\n"
     ]
    }
   ],
   "source": [
    "a = 200\n",
    "\n",
    "if a == 1:\n",
    "    print(1)\n",
    "    \n",
    "elif a == 2:\n",
    "    print(\"hooray\")\n",
    "    \n",
    "elif a == 3:\n",
    "    print(\"Hello World\")\n",
    "    \n",
    "else:\n",
    "    print(\"DAMN\")"
   ]
  },
  {
   "cell_type": "markdown",
   "id": "d64dc807",
   "metadata": {},
   "source": [
    "## Loop is very useful because we are always asking computer to repeat something.\n",
    "- for loop\n",
    "- while loop"
   ]
  },
  {
   "cell_type": "code",
   "execution_count": 65,
   "id": "605f40df",
   "metadata": {},
   "outputs": [
    {
     "name": "stdout",
     "output_type": "stream",
     "text": [
      "1\n",
      "2\n",
      "3\n",
      "4\n",
      "5\n",
      "6\n",
      "7\n",
      "8\n",
      "9\n"
     ]
    }
   ],
   "source": [
    "for i in range(1,10):\n",
    "    print(i)"
   ]
  },
  {
   "cell_type": "code",
   "execution_count": 17,
   "id": "868c6292",
   "metadata": {},
   "outputs": [
    {
     "ename": "TypeError",
     "evalue": "'float' object cannot be interpreted as an integer",
     "output_type": "error",
     "traceback": [
      "\u001b[0;31m---------------------------------------------------------------------------\u001b[0m",
      "\u001b[0;31mTypeError\u001b[0m                                 Traceback (most recent call last)",
      "\u001b[0;32m/var/folders/cq/d8h3wnqx5yd2tjl34nkmynr80000gn/T/ipykernel_15256/871735368.py\u001b[0m in \u001b[0;36m<module>\u001b[0;34m\u001b[0m\n\u001b[1;32m      1\u001b[0m \u001b[0mi\u001b[0m \u001b[0;34m=\u001b[0m \u001b[0;36m1.0\u001b[0m\u001b[0;34m\u001b[0m\u001b[0;34m\u001b[0m\u001b[0m\n\u001b[0;32m----> 2\u001b[0;31m \u001b[0;32mwhile\u001b[0m \u001b[0mi\u001b[0m \u001b[0;32min\u001b[0m \u001b[0mrange\u001b[0m\u001b[0;34m(\u001b[0m\u001b[0;36m1.0\u001b[0m\u001b[0;34m,\u001b[0m\u001b[0;36m20.0\u001b[0m\u001b[0;34m)\u001b[0m\u001b[0;34m:\u001b[0m\u001b[0;34m\u001b[0m\u001b[0;34m\u001b[0m\u001b[0m\n\u001b[0m\u001b[1;32m      3\u001b[0m     \u001b[0mi\u001b[0m \u001b[0;34m=\u001b[0m \u001b[0mi\u001b[0m \u001b[0;34m+\u001b[0m \u001b[0;36m1\u001b[0m\u001b[0;34m\u001b[0m\u001b[0;34m\u001b[0m\u001b[0m\n\u001b[1;32m      4\u001b[0m     \u001b[0mprint\u001b[0m\u001b[0;34m(\u001b[0m\u001b[0mi\u001b[0m\u001b[0;34m)\u001b[0m\u001b[0;34m\u001b[0m\u001b[0;34m\u001b[0m\u001b[0m\n\u001b[1;32m      5\u001b[0m \u001b[0;34m\u001b[0m\u001b[0m\n",
      "\u001b[0;31mTypeError\u001b[0m: 'float' object cannot be interpreted as an integer"
     ]
    }
   ],
   "source": [
    "i = 1.0\n",
    "while i in range(1.0,20.0):\n",
    "    i = i + 1\n",
    "    print(i)\n",
    "\n",
    "\n"
   ]
  },
  {
   "cell_type": "code",
   "execution_count": 73,
   "id": "82e65391",
   "metadata": {},
   "outputs": [
    {
     "name": "stdout",
     "output_type": "stream",
     "text": [
      "110\n",
      "123\n",
      "145\n",
      "187\n"
     ]
    }
   ],
   "source": [
    "for i in [10,23,45,87]:\n",
    "    i += 100\n",
    "    print(i)"
   ]
  },
  {
   "cell_type": "code",
   "execution_count": 74,
   "id": "8ce3d118",
   "metadata": {},
   "outputs": [
    {
     "name": "stdout",
     "output_type": "stream",
     "text": [
      "5050\n"
     ]
    }
   ],
   "source": [
    "tot = 0\n",
    "for i in range(1,101):\n",
    "    tot = tot + i\n",
    "print(tot)"
   ]
  },
  {
   "cell_type": "code",
   "execution_count": 18,
   "id": "389f49e1",
   "metadata": {},
   "outputs": [
    {
     "name": "stdout",
     "output_type": "stream",
     "text": [
      "[0, 1, 1, 2, 3, 5, 8, 13, 21, 34, 55, 89, 144, 233, 377, 610, 987, 1597, 2584, 4181, 6765, 10946, 17711, 28657, 46368, 75025, 121393, 196418, 317811, 514229, 832040, 1346269, 2178309, 3524578, 5702887, 9227465, 14930352, 24157817, 39088169, 63245986, 102334155, 165580141, 267914296, 433494437, 701408733, 1134903170, 1836311903, 2971215073, 4807526976, 7778742049, 12586269025, 20365011074, 32951280099, 53316291173, 86267571272, 139583862445, 225851433717, 365435296162, 591286729879, 956722026041, 1548008755920, 2504730781961, 4052739537881, 6557470319842, 10610209857723, 17167680177565, 27777890035288, 44945570212853, 72723460248141, 117669030460994, 190392490709135, 308061521170129, 498454011879264, 806515533049393, 1304969544928657, 2111485077978050, 3416454622906707, 5527939700884757, 8944394323791464, 14472334024676221, 23416728348467685, 37889062373143906, 61305790721611591, 99194853094755497, 160500643816367088, 259695496911122585, 420196140727489673, 679891637638612258, 1100087778366101931, 1779979416004714189, 2880067194370816120, 4660046610375530309, 7540113804746346429, 12200160415121876738, 19740274219868223167, 31940434634990099905, 51680708854858323072, 83621143489848422977, 135301852344706746049, 218922995834555169026, 354224848179261915075, 573147844013817084101]\n"
     ]
    }
   ],
   "source": [
    "# create a Fibonacci sequence\n",
    "N = 100\n",
    "L = [0, 1]\n",
    "for i in range(1, N+1):\n",
    "    L = L + [L[-2] + L[-1]] \n",
    "print(L)"
   ]
  },
  {
   "cell_type": "code",
   "execution_count": 4,
   "id": "cb50c9be",
   "metadata": {},
   "outputs": [
    {
     "name": "stdout",
     "output_type": "stream",
     "text": [
      "[60, 15, 67, 24, 73, 44, 72, 78, 66, 20]\n",
      "input your guess. Or if you don't want to continue the game, type stop1\n",
      "1\n",
      "False\n",
      "input your guess. Or if you don't want to continue the game, type stop3\n",
      "3\n",
      "False\n",
      "input your guess. Or if you don't want to continue the game, type stop345\n",
      "345\n",
      "False\n",
      "input your guess. Or if you don't want to continue the game, type stop200\n",
      "200\n",
      "False\n",
      "input your guess. Or if you don't want to continue the game, type stopSTOP\n"
     ]
    }
   ],
   "source": [
    "import random\n",
    "random.seed()\n",
    "\n",
    "L = random.sample(range(1,101), 10)\n",
    "print(L)\n",
    "\n",
    "g = 0\n",
    "while g not in L:\n",
    "    g = input(\"input your guess. Or if you don't want to continue the game, type stop\")\n",
    "    if g == \"stop\" or g == \"STOP\":\n",
    "        break\n",
    "    g = int(g)\n",
    "    print(g)\n",
    "    print(g in L)\n",
    "\n",
    "\n",
    "\n"
   ]
  },
  {
   "cell_type": "code",
   "execution_count": 59,
   "id": "393c8357",
   "metadata": {},
   "outputs": [
    {
     "name": "stdout",
     "output_type": "stream",
     "text": [
      "a_win= 27 b_win= 31 no_win= 41\n"
     ]
    }
   ],
   "source": [
    "import random\n",
    "random.seed()\n",
    "a_win = 0\n",
    "b_win = 0\n",
    "no_win = 0\n",
    "for i in range(1,100):\n",
    "    a = random.randint(1,3)\n",
    "    b = random.randint(1,3)\n",
    "    if a > b:\n",
    "        a_win = a_win + 1\n",
    "    elif a == b:\n",
    "        no_win += 1\n",
    "    else:\n",
    "        b_win = b_win + 1\n",
    "\n",
    "print(\"a_win=\", a_win, \"b_win=\", b_win, \"no_win=\", no_win)"
   ]
  },
  {
   "cell_type": "code",
   "execution_count": 22,
   "id": "a2b7da4d",
   "metadata": {},
   "outputs": [
    {
     "name": "stdout",
     "output_type": "stream",
     "text": [
      "7922 points are in the circle, 2077 points are out of the circle. 2077\n",
      "estimated pi equals  3.169116911691169\n"
     ]
    }
   ],
   "source": [
    "# calculate pi\n",
    "import random\n",
    "\n",
    "random.seed()\n",
    "in_circle = 0\n",
    "out_circle = 0\n",
    "for i in range(1,10000):\n",
    "    x = random.randrange(-1000,1000)/1000\n",
    "    y = random.randrange(-1000,1000)/1000\n",
    "    if x**2 + y**2 <= 1:\n",
    "        in_circle = in_circle + 1\n",
    "    else:\n",
    "        out_circle = out_circle + 1\n",
    "\n",
    "print(in_circle, \"points are in the circle,\", out_circle, \"points are out of the circle.\", out_circle)\n",
    "print(\"estimated pi equals \", in_circle/(in_circle+out_circle)*4)\n"
   ]
  },
  {
   "cell_type": "code",
   "execution_count": 25,
   "id": "a509e38d",
   "metadata": {},
   "outputs": [
    {
     "name": "stdout",
     "output_type": "stream",
     "text": [
      "[10, 12, 4, 93, 57, 11, 7, 42, 72, 83]\n",
      "4\n",
      "[4]\n",
      "7\n",
      "[4, 7]\n",
      "10\n",
      "[4, 7, 10]\n",
      "11\n",
      "[4, 7, 10, 11]\n",
      "12\n",
      "[4, 7, 10, 11, 12]\n",
      "42\n",
      "[4, 7, 10, 11, 12, 42]\n",
      "57\n",
      "[4, 7, 10, 11, 12, 42, 57]\n",
      "72\n",
      "[4, 7, 10, 11, 12, 42, 57, 72]\n",
      "83\n",
      "[4, 7, 10, 11, 12, 42, 57, 72, 83]\n"
     ]
    }
   ],
   "source": [
    "import random\n",
    "random.seed()\n",
    "\n",
    "L = random.sample(range(1,101), 10)\n",
    "print(L)\n",
    "L1 = []\n",
    "\n",
    "while len(L) > 1:\n",
    "    mini = 9999\n",
    "    for i in L:\n",
    "        if i < mini:\n",
    "            mini = i\n",
    "    print(mini)\n",
    "    L.remove(mini)\n",
    "    L1.append(mini)\n",
    "    print(L1)"
   ]
  },
  {
   "cell_type": "code",
   "execution_count": 18,
   "id": "1dcca3e9",
   "metadata": {},
   "outputs": [
    {
     "name": "stdout",
     "output_type": "stream",
     "text": [
      "[2, 3, 4]\n"
     ]
    }
   ],
   "source": []
  },
  {
   "cell_type": "markdown",
   "id": "d50d6f57",
   "metadata": {},
   "source": [
    "# Homework\n",
    "\n",
    "Write code to sort a list of numeric values in asending order with \"buble sort\" and/or \"insertion sort\". Create and Use a 50-element list with random numbers between 1 and 100. Do not use any existing python function. Your code must work for any given list.\n",
    "\n",
    "Hint: search \"sorting algorithms\" in google. \n",
    "\n",
    "The full score of the homework will be 10. If you successfully implement 1 sorting algorithm, you will have a score 9. If you can implement two or more algorithms, you will have the full score. \n",
    "\n",
    "Codes with clear comments will accont for 2 points of your score. \n",
    "\n",
    "Put it to the same github repository that you shared with me last time."
   ]
  },
  {
   "cell_type": "code",
   "execution_count": null,
   "id": "ad4d05c0",
   "metadata": {},
   "outputs": [],
   "source": []
  }
 ],
 "metadata": {
  "kernelspec": {
   "display_name": "Python 3 (ipykernel)",
   "language": "python",
   "name": "python3"
  },
  "language_info": {
   "codemirror_mode": {
    "name": "ipython",
    "version": 3
   },
   "file_extension": ".py",
   "mimetype": "text/x-python",
   "name": "python",
   "nbconvert_exporter": "python",
   "pygments_lexer": "ipython3",
   "version": "3.9.1"
  }
 },
 "nbformat": 4,
 "nbformat_minor": 5
}
