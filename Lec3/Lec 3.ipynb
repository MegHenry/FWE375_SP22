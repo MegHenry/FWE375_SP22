{
 "cells": [
  {
   "cell_type": "markdown",
   "id": "6d77813f",
   "metadata": {},
   "source": [
    "# FWE 375 Environmental Data Science\n",
    "## Spring 2022\n",
    "## Lecture 3 Fundamentals of Python programming 1\n",
    "\n",
    "Python is a simple programming language. It is straightforward and the most popular language in the world today. Learning the basics of Python won't take too much of your time.\n",
    "\n",
    "Let's start with a simple example: print \"Hello world\" on your screen. This is used as the first example for almost any of the computer languages.\n",
    "\n",
    "\n"
   ]
  },
  {
   "cell_type": "code",
   "execution_count": 26,
   "id": "c27913b3",
   "metadata": {},
   "outputs": [
    {
     "name": "stdout",
     "output_type": "stream",
     "text": [
      "Hello World\n"
     ]
    }
   ],
   "source": [
    "print(\"Hello World\") # print is a function in python which print the argument onto the screen"
   ]
  },
  {
   "cell_type": "code",
   "execution_count": 28,
   "id": "6146edb5",
   "metadata": {},
   "outputs": [
    {
     "ename": "SyntaxError",
     "evalue": "Missing parentheses in call to 'print'. Did you mean print('Hello World')? (729776420.py, line 1)",
     "output_type": "error",
     "traceback": [
      "\u001b[0;36m  File \u001b[0;32m\"/var/folders/5z/gl6s_gjx0z348sf6tz0gx2hw0000gn/T/ipykernel_16808/729776420.py\"\u001b[0;36m, line \u001b[0;32m1\u001b[0m\n\u001b[0;31m    print 'Hello World'\u001b[0m\n\u001b[0m          ^\u001b[0m\n\u001b[0;31mSyntaxError\u001b[0m\u001b[0;31m:\u001b[0m Missing parentheses in call to 'print'. Did you mean print('Hello World')?\n"
     ]
    }
   ],
   "source": [
    "print 'Hello World'"
   ]
  },
  {
   "cell_type": "markdown",
   "id": "73ec8bce",
   "metadata": {},
   "source": [
    "Learning Python is very similar to learning a human language. \n",
    "***\n",
    "### <center> Vocabulary + Grammar </center>\n",
    "***\n",
    "\n",
    "## <center> \"Vocabulary\" </center>\n",
    "### 1. Python Reserved Keywords\n",
    "from https://www.w3schools.com/python/python_ref_keywords.asp\n",
    "\n",
    "|Keyword|\tDescription|\n",
    "|---|---|\n",
    "|**and**|\tA logical operator|\n",
    "|**as**|\tTo create an alias|\n",
    "|assert|\tFor debugging|\n",
    "|**break**|\tTo break out of a loop|\n",
    "|class|\tTo define a class|\n",
    "|continue|\tTo continue to the next iteration of a loop|\n",
    "|**def**|\tTo define a function|\n",
    "|del|\tTo delete an object|\n",
    "|**elif**|\tUsed in conditional statements, same as else if|\n",
    "|**else**|\tUsed in conditional statements|\n",
    "|except|\tUsed with exceptions, what to do when an exception occurs|\n",
    "|**False**|\tBoolean value, result of comparison operations|\n",
    "|finally|\tUsed with exceptions, a block of code that will be executed no matter if there is an exception or not|\n",
    "|**for**|\tTo create a for loop|\n",
    "|**from**|\tTo import specific parts of a module|\n",
    "|global|\tTo declare a global variable|\n",
    "|**if**|\tTo make a conditional statement|\n",
    "|**import**|\tTo import a module|\n",
    "|**in**|\tTo check if a value is present in a list, tuple, etc.|\n",
    "|**is**|\tTo test if two variables are equal|\n",
    "|lambda|\tTo create an anonymous function|\n",
    "|None|\tRepresents a null value|\n",
    "|nonlocal|\tTo declare a non-local variable|\n",
    "|**not**|\tA logical operator|\n",
    "|**or**|\tA logical operator|\n",
    "|pass|\tA null statement, a statement that will do nothing|\n",
    "|raise|\tTo raise an exception|\n",
    "|**return**|\tTo exit a function and return a value|\n",
    "|**True**|\tBoolean value, result of comparison operations|\n",
    "|try|\tTo make a try...except statement|\n",
    "|**while**|\tTo create a while loop|\n",
    "|with|\tUsed to simplify exception handling|\n",
    "|yield|\tTo end a function, returns a generator|\n",
    "\n",
    "### 2. Operators in Python\n",
    "See https://www.w3schools.com/python/python_operators.asp\n",
    "Below list several most frequently used ones\n",
    "\n",
    "|Keyword|\tDescription|\n",
    "|---|---|\n",
    "|+|addition|\n",
    "|-|substraction|\n",
    "|*|multiplication|\n",
    "|/|division|\n",
    "|%|modulus|\n",
    "|**|exponetiation|\n",
    "|//|floor division|\n",
    "|=|assignment|\n",
    "|==|equal|\n",
    "|!=|not equal|\n",
    "|>|greater than|\n",
    "|<|less than|\n",
    "|>=|greater than or equal to|\n",
    "|<=|less than or equal to|\n",
    "|and|Returns True if both statements are true|\n",
    "|or|Returns True if one of the statements is true|\n",
    "|not|Reverse the result, returns False if the result is true|\n",
    "|in|Returns True if a sequence with the specified value is present in the object|\n",
    "|not in|Returns True if a sequence with the specified value is not present in the object|\n",
    "\n",
    "***\n",
    "\n",
    "## <center> \"Grammar\" </center>\n",
    "### 1. Python variables\n",
    "#### 'Variable' is key element in every programming language. It is used to store information that you will reuse in your code. Examples inlcude:\n",
    "- numeric values\n",
    "- strings such as file names, paths\n",
    "- an array of values\n",
    "- more complex data such as time series and remote sensing images\n",
    "\n"
   ]
  },
  {
   "cell_type": "code",
   "execution_count": 16,
   "id": "e589fc75",
   "metadata": {},
   "outputs": [
    {
     "name": "stdout",
     "output_type": "stream",
     "text": [
      "Calulate 1 + 2\n",
      "Answer is 3\n"
     ]
    }
   ],
   "source": [
    "s1 = \"Calulate\"\n",
    "x = 1\n",
    "s2 = \"+\"\n",
    "y = 2\n",
    "\n",
    "z = x + y\n",
    "print(s1, x, s2, y)\n",
    "print(\"Answer is\", z)"
   ]
  },
  {
   "cell_type": "code",
   "execution_count": null,
   "id": "62d70db0",
   "metadata": {},
   "outputs": [],
   "source": [
    "You can use type() to see the type of a variable:"
   ]
  },
  {
   "cell_type": "code",
   "execution_count": 19,
   "id": "05b7d5e8",
   "metadata": {},
   "outputs": [
    {
     "data": {
      "text/plain": [
       "str"
      ]
     },
     "execution_count": 19,
     "metadata": {},
     "output_type": "execute_result"
    }
   ],
   "source": [
    "type(s1)"
   ]
  },
  {
   "cell_type": "code",
   "execution_count": 23,
   "id": "1eb3127d",
   "metadata": {},
   "outputs": [
    {
     "name": "stdout",
     "output_type": "stream",
     "text": [
      "<class 'int'>\n",
      "0.5\n",
      "<class 'float'>\n",
      "0\n"
     ]
    }
   ],
   "source": [
    "print(type(x))\n",
    "\n",
    "z = x/y\n",
    "print(z)\n",
    "print(type(z))\n",
    "print(int(z))"
   ]
  },
  {
   "cell_type": "code",
   "execution_count": 30,
   "id": "a06fe527",
   "metadata": {},
   "outputs": [
    {
     "name": "stdout",
     "output_type": "stream",
     "text": [
      "[1, 2, 3, 4, 5]\n",
      "jan\n",
      "[1, 3, 'Jan']\n"
     ]
    }
   ],
   "source": [
    "L = [1,2,3,4,5]\n",
    "print(L)\n",
    "l = [\"jan\",'Feb','March']\n",
    "print(l[0])\n",
    "\n",
    "A = [1,3,\"Jan\"]\n",
    "print(A)"
   ]
  },
  {
   "cell_type": "code",
   "execution_count": 32,
   "id": "d6700816",
   "metadata": {},
   "outputs": [
    {
     "name": "stdout",
     "output_type": "stream",
     "text": [
      "<class 'list'>\n"
     ]
    }
   ],
   "source": [
    "ll = [[1,3,4],[4,5,6,7]]\n",
    "print(ll)"
   ]
  },
  {
   "cell_type": "markdown",
   "id": "5ed570bd",
   "metadata": {},
   "source": [
    "Update items in a list"
   ]
  },
  {
   "cell_type": "code",
   "execution_count": 33,
   "id": "a1cbea13",
   "metadata": {},
   "outputs": [
    {
     "name": "stdout",
     "output_type": "stream",
     "text": [
      "[1, 2, 3, 99, 5]\n"
     ]
    }
   ],
   "source": [
    "L[3] = 99\n",
    "print(L)"
   ]
  },
  {
   "cell_type": "markdown",
   "id": "6304b92e",
   "metadata": {},
   "source": [
    "Insert an item in a list"
   ]
  },
  {
   "cell_type": "code",
   "execution_count": 37,
   "id": "f209c68e",
   "metadata": {},
   "outputs": [
    {
     "name": "stdout",
     "output_type": "stream",
     "text": [
      "[1, 2, 100, 100, 100, 3, 99, 5]\n"
     ]
    }
   ],
   "source": [
    "L.insert(2,100)\n",
    "print(L)"
   ]
  },
  {
   "cell_type": "markdown",
   "id": "63d82a59",
   "metadata": {},
   "source": [
    "Delete Items From a Python List"
   ]
  },
  {
   "cell_type": "code",
   "execution_count": 40,
   "id": "7e60a4a6",
   "metadata": {},
   "outputs": [
    {
     "name": "stdout",
     "output_type": "stream",
     "text": [
      "[100, 100, 3, 99, 5]\n"
     ]
    },
    {
     "data": {
      "text/plain": [
       "5"
      ]
     },
     "execution_count": 40,
     "metadata": {},
     "output_type": "execute_result"
    }
   ],
   "source": [
    "del L[0]\n",
    "print(L)\n",
    "len(L)"
   ]
  },
  {
   "cell_type": "code",
   "execution_count": 44,
   "id": "41fb55a8",
   "metadata": {},
   "outputs": [
    {
     "name": "stdout",
     "output_type": "stream",
     "text": [
      "[100, 100, 3, 99, 5, -1000, -1000, -1000, -1000]\n",
      "[100, 100, 3, 99, 5, -1000, -1000, -1000, -1000, 1]\n"
     ]
    },
    {
     "data": {
      "text/plain": [
       "int"
      ]
     },
     "execution_count": 44,
     "metadata": {},
     "output_type": "execute_result"
    }
   ],
   "source": [
    "# Append an Item to a Python List\n",
    "L.append(-1000)\n",
    "print(L)\n",
    "print(L+[1])"
   ]
  },
  {
   "cell_type": "markdown",
   "id": "1c21bafd",
   "metadata": {},
   "source": [
    "### 2. Basic rules of writing a python code\n",
    "#### 2.1 Indentation\n",
    "- Indentation means the spaces at the beginning of a code line.\n",
    "- Indentation in Python is important because Python uses indentation to indicate a code block.\n",
    "- Indentation could be one or more spaces/tabs. Usually four spaces is recommended.\n",
    "- Most coding tools including Jupyter Notebook support auto indentation.\n",
    "\n",
    "#### 2.2 Comments\n",
    "- It is a good habit to write comments while coding\n",
    "- Use # for single-line comment\n",
    "- Use \"\"\" for mult-line comments\n",
    "\n"
   ]
  },
  {
   "cell_type": "code",
   "execution_count": 46,
   "id": "76d07871",
   "metadata": {},
   "outputs": [
    {
     "name": "stdout",
     "output_type": "stream",
     "text": [
      "[100, 100, 3, 99, 5, -1000, -1000, -1000, -1000, 1]\n",
      "[100, 100, 3, 99, 5, -1000, -1000, -1000, -1000, 1, 1]\n"
     ]
    }
   ],
   "source": [
    "# This is an example for python comment\n",
    "a = 1 # assign 1 to variable a\n",
    "\"\"\"\n",
    "now let's append a to a list\n",
    "The list is the L we used above\n",
    "\"\"\"\n",
    "print(L)\n",
    "L = L + [a]\n",
    "print(L)"
   ]
  },
  {
   "cell_type": "code",
   "execution_count": 7,
   "id": "b75c3793",
   "metadata": {},
   "outputs": [
    {
     "name": "stdout",
     "output_type": "stream",
     "text": [
      "1 1.0\n"
     ]
    }
   ],
   "source": [
    "a = 1\n",
    "b = float(a)\n",
    "print(a, b)"
   ]
  },
  {
   "cell_type": "code",
   "execution_count": 11,
   "id": "49cab1e6",
   "metadata": {},
   "outputs": [
    {
     "ename": "TypeError",
     "evalue": "list indices must be integers or slices, not float",
     "output_type": "error",
     "traceback": [
      "\u001b[0;31m---------------------------------------------------------------------------\u001b[0m",
      "\u001b[0;31mTypeError\u001b[0m                                 Traceback (most recent call last)",
      "\u001b[0;32m/var/folders/cq/d8h3wnqx5yd2tjl34nkmynr80000gn/T/ipykernel_7969/3389291955.py\u001b[0m in \u001b[0;36m<module>\u001b[0;34m\u001b[0m\n\u001b[1;32m      1\u001b[0m \u001b[0mc\u001b[0m \u001b[0;34m=\u001b[0m \u001b[0;34m[\u001b[0m\u001b[0;36m1\u001b[0m\u001b[0;34m,\u001b[0m \u001b[0;36m2\u001b[0m\u001b[0;34m,\u001b[0m \u001b[0;36m3\u001b[0m\u001b[0;34m,\u001b[0m \u001b[0;36m4\u001b[0m\u001b[0;34m]\u001b[0m\u001b[0;34m\u001b[0m\u001b[0;34m\u001b[0m\u001b[0m\n\u001b[0;32m----> 2\u001b[0;31m \u001b[0mprint\u001b[0m\u001b[0;34m(\u001b[0m\u001b[0mc\u001b[0m\u001b[0;34m[\u001b[0m\u001b[0mb\u001b[0m\u001b[0;34m]\u001b[0m\u001b[0;34m)\u001b[0m\u001b[0;34m\u001b[0m\u001b[0;34m\u001b[0m\u001b[0m\n\u001b[0m",
      "\u001b[0;31mTypeError\u001b[0m: list indices must be integers or slices, not float"
     ]
    }
   ],
   "source": [
    "c = [1, 2, 3, 4]\n",
    "print(c[b])"
   ]
  },
  {
   "cell_type": "code",
   "execution_count": null,
   "id": "48ba48b8",
   "metadata": {},
   "outputs": [],
   "source": []
  }
 ],
 "metadata": {
  "kernelspec": {
   "display_name": "Python 3 (ipykernel)",
   "language": "python",
   "name": "python3"
  },
  "language_info": {
   "codemirror_mode": {
    "name": "ipython",
    "version": 3
   },
   "file_extension": ".py",
   "mimetype": "text/x-python",
   "name": "python",
   "nbconvert_exporter": "python",
   "pygments_lexer": "ipython3",
   "version": "3.9.1"
  }
 },
 "nbformat": 4,
 "nbformat_minor": 5
}
