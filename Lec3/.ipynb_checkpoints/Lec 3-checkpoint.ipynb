{
 "cells": [
  {
   "cell_type": "markdown",
   "id": "6d77813f",
   "metadata": {},
   "source": [
    "# FWE 375 Environmental Data Science\n",
    "## Spring 2022\n",
    "## Lecture 3 Fundamentals of Python programming 1\n",
    "\n",
    "Python is a simple programming language. It is straightforward and the most popular language in the world today. Learning the basics of Python won't take too much of your time.\n",
    "\n",
    "Let's start with a simple example: print \"Hello world\" on your screen. This is used as the first example for almost any of the computer languages.\n",
    "\n",
    "\n"
   ]
  },
  {
   "cell_type": "code",
   "execution_count": 26,
   "id": "c27913b3",
   "metadata": {},
   "outputs": [
    {
     "name": "stdout",
     "output_type": "stream",
     "text": [
      "Hello World\n"
     ]
    }
   ],
   "source": [
    "print(\"Hello World\") # print is a function in python which print the argument onto the screen"
   ]
  },
  {
   "cell_type": "code",
   "execution_count": 28,
   "id": "6146edb5",
   "metadata": {},
   "outputs": [
    {
     "ename": "SyntaxError",
     "evalue": "Missing parentheses in call to 'print'. Did you mean print('Hello World')? (729776420.py, line 1)",
     "output_type": "error",
     "traceback": [
      "\u001b[0;36m  File \u001b[0;32m\"/var/folders/5z/gl6s_gjx0z348sf6tz0gx2hw0000gn/T/ipykernel_16808/729776420.py\"\u001b[0;36m, line \u001b[0;32m1\u001b[0m\n\u001b[0;31m    print 'Hello World'\u001b[0m\n\u001b[0m          ^\u001b[0m\n\u001b[0;31mSyntaxError\u001b[0m\u001b[0;31m:\u001b[0m Missing parentheses in call to 'print'. Did you mean print('Hello World')?\n"
     ]
    }
   ],
   "source": [
    "print 'Hello World'"
   ]
  },
  {
   "cell_type": "markdown",
   "id": "73ec8bce",
   "metadata": {},
   "source": [
    "Learning Python is very similar to learning a human language. \n",
    "***\n",
    "### <center> Vocabulary + Grammar </center>\n",
    "***\n",
    "\n",
    "## <center> \"Vocabulary\" </center>\n",
    "### 1. Python Reserved Keywords\n",
    "from https://www.w3schools.com/python/python_ref_keywords.asp\n",
    "\n",
    "|Keyword|\tDescription|\n",
    "|---|---|\n",
    "|**and**|\tA logical operator|\n",
    "|**as**|\tTo create an alias|\n",
    "|assert|\tFor debugging|\n",
    "|**break**|\tTo break out of a loop|\n",
    "|class|\tTo define a class|\n",
    "|continue|\tTo continue to the next iteration of a loop|\n",
    "|**def**|\tTo define a function|\n",
    "|del|\tTo delete an object|\n",
    "|**elif**|\tUsed in conditional statements, same as else if|\n",
    "|**else**|\tUsed in conditional statements|\n",
    "|except|\tUsed with exceptions, what to do when an exception occurs|\n",
    "|**False**|\tBoolean value, result of comparison operations|\n",
    "|finally|\tUsed with exceptions, a block of code that will be executed no matter if there is an exception or not|\n",
    "|**for**|\tTo create a for loop|\n",
    "|**from**|\tTo import specific parts of a module|\n",
    "|global|\tTo declare a global variable|\n",
    "|**if**|\tTo make a conditional statement|\n",
    "|**import**|\tTo import a module|\n",
    "|**in**|\tTo check if a value is present in a list, tuple, etc.|\n",
    "|**is**|\tTo test if two variables are equal|\n",
    "|lambda|\tTo create an anonymous function|\n",
    "|None|\tRepresents a null value|\n",
    "|nonlocal|\tTo declare a non-local variable|\n",
    "|**not**|\tA logical operator|\n",
    "|**or**|\tA logical operator|\n",
    "|pass|\tA null statement, a statement that will do nothing|\n",
    "|raise|\tTo raise an exception|\n",
    "|**return**|\tTo exit a function and return a value|\n",
    "|**True**|\tBoolean value, result of comparison operations|\n",
    "|try|\tTo make a try...except statement|\n",
    "|**while**|\tTo create a while loop|\n",
    "|with|\tUsed to simplify exception handling|\n",
    "|yield|\tTo end a function, returns a generator|\n",
    "\n",
    "### 2. Operators in Python\n",
    "See https://www.w3schools.com/python/python_operators.asp\n",
    "Below list several most frequently used ones\n",
    "\n",
    "|Keyword|\tDescription|\n",
    "|---|---|\n",
    "|+|addition|\n",
    "|-|substraction|\n",
    "|*|multiplication|\n",
    "|/|division|\n",
    "|%|modulus|\n",
    "|**|exponetiation|\n",
    "|//|floor division|\n",
    "|=|assignment|\n",
    "|==|equal|\n",
    "|!=|not equal|\n",
    "|>|greater than|\n",
    "|<|less than|\n",
    "|>=|greater than or equal to|\n",
    "|<=|less than or equal to|\n",
    "|and|Returns True if both statements are true|\n",
    "|or|Returns True if one of the statements is true|\n",
    "|not|Reverse the result, returns False if the result is true|\n",
    "|in|Returns True if a sequence with the specified value is present in the object|\n",
    "|not in|Returns True if a sequence with the specified value is not present in the object|\n",
    "\n",
    "***\n",
    "\n",
    "## <center> \"Grammar\" </center>\n",
    "### Python variables\n",
    "#### Variables are \n",
    "### 1. Basic rules of writing a python code\n",
    "#### 1.1 Indentation\n",
    "- Indentation means the spaces at the beginning of a code line.\n",
    "- Indentation in Python is important because Python uses indentation to indicate a code block.\n",
    "- Indentation could be one or more spaces/tabs. Usually four spaces is recommended.\n",
    "- Most coding tools including Jupyter Notebook support auto indentation.\n",
    "\n",
    "Practice the example below:"
   ]
  },
  {
   "cell_type": "code",
   "execution_count": 31,
   "id": "e589fc75",
   "metadata": {},
   "outputs": [
    {
     "ename": "SyntaxError",
     "evalue": "invalid syntax (3315253332.py, line 3)",
     "output_type": "error",
     "traceback": [
      "\u001b[0;36m  File \u001b[0;32m\"/var/folders/5z/gl6s_gjx0z348sf6tz0gx2hw0000gn/T/ipykernel_16808/3315253332.py\"\u001b[0;36m, line \u001b[0;32m3\u001b[0m\n\u001b[0;31m    if 2 == 2\u001b[0m\n\u001b[0m             ^\u001b[0m\n\u001b[0;31mSyntaxError\u001b[0m\u001b[0;31m:\u001b[0m invalid syntax\n"
     ]
    }
   ],
   "source": [
    "if 2 == 2:\n",
    "    print(\"yes yes!\")\n",
    "if 2 == 2\n",
    "print(\"no no!\")"
   ]
  },
  {
   "cell_type": "code",
   "execution_count": null,
   "id": "bd51487e",
   "metadata": {},
   "outputs": [],
   "source": []
  }
 ],
 "metadata": {
  "kernelspec": {
   "display_name": "Python 3 (ipykernel)",
   "language": "python",
   "name": "python3"
  },
  "language_info": {
   "codemirror_mode": {
    "name": "ipython",
    "version": 3
   },
   "file_extension": ".py",
   "mimetype": "text/x-python",
   "name": "python",
   "nbconvert_exporter": "python",
   "pygments_lexer": "ipython3",
   "version": "3.9.7"
  }
 },
 "nbformat": 4,
 "nbformat_minor": 5
}
