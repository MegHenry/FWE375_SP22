{
 "cells": [
  {
   "cell_type": "markdown",
   "id": "6cc97a6c",
   "metadata": {},
   "source": [
    "# FWE 375 Environmental Data Science\n",
    "## Spring 2022\n",
    "## Lecture 3 Fundamentals of Python programming 1\n",
    "\n",
    "Python is a simple programming language. It is straightforward and the most popular language in the world today. Learning the basics of Python won't take too much of your time.\n",
    "\n",
    "Learning Python is very similar to learning a human language. \n",
    "***\n",
    "### <center> Vocabulary + Grammar </center>\n",
    "***\n",
    "\n",
    "### <center>Python Reserved Keywords</center>\n",
    "<center>copied from https://www.w3schools.com/python/python_ref_keywords.asp</center>\n",
    "\n",
    "|Keyword|\tDescription|\n",
    "|---|---|\n",
    "|**and**|\tA logical operator|\n",
    "|**as**|\tTo create an alias|\n",
    "|assert|\tFor debugging|\n",
    "|**break**|\tTo break out of a loop|\n",
    "|class|\tTo define a class|\n",
    "|continue|\tTo continue to the next iteration of a loop|\n",
    "|**def**|\tTo define a function|\n",
    "|del|\tTo delete an object|\n",
    "|**elif**|\tUsed in conditional statements, same as else if|\n",
    "|**else**|\tUsed in conditional statements|\n",
    "|except|\tUsed with exceptions, what to do when an exception occurs|\n",
    "|**False**|\tBoolean value, result of comparison operations|\n",
    "|finally|\tUsed with exceptions, a block of code that will be executed no matter if there is an exception or not|\n",
    "|**for**|\tTo create a for loop|\n",
    "|**from**|\tTo import specific parts of a module|\n",
    "|global|\tTo declare a global variable|\n",
    "|**if**|\tTo make a conditional statement|\n",
    "|**import**|\tTo import a module|\n",
    "|**in**|\tTo check if a value is present in a list, tuple, etc.|\n",
    "|**is**|\tTo test if two variables are equal|\n",
    "|lambda|\tTo create an anonymous function|\n",
    "|None|\tRepresents a null value|\n",
    "|nonlocal|\tTo declare a non-local variable|\n",
    "|**not**|\tA logical operator|\n",
    "|**or**|\tA logical operator|\n",
    "|pass|\tA null statement, a statement that will do nothing|\n",
    "|raise|\tTo raise an exception|\n",
    "|**return**|\tTo exit a function and return a value|\n",
    "|**True**|\tBoolean value, result of comparison operations|\n",
    "|try|\tTo make a try...except statement|\n",
    "|**while**|\tTo create a while loop|\n",
    "|with|\tUsed to simplify exception handling|\n",
    "|yield|\tTo end a function, returns a generator|"
   ]
  },
  {
   "cell_type": "code",
   "execution_count": 3,
   "id": "a3d5ee8e",
   "metadata": {},
   "outputs": [
    {
     "name": "stdout",
     "output_type": "stream",
     "text": [
      "1\n"
     ]
    }
   ],
   "source": [
    "\n"
   ]
  },
  {
   "cell_type": "code",
   "execution_count": null,
   "id": "038ff97d",
   "metadata": {},
   "outputs": [],
   "source": []
  }
 ],
 "metadata": {
  "kernelspec": {
   "display_name": "Python 3 (ipykernel)",
   "language": "python",
   "name": "python3"
  },
  "language_info": {
   "codemirror_mode": {
    "name": "ipython",
    "version": 3
   },
   "file_extension": ".py",
   "mimetype": "text/x-python",
   "name": "python",
   "nbconvert_exporter": "python",
   "pygments_lexer": "ipython3",
   "version": "3.9.7"
  }
 },
 "nbformat": 4,
 "nbformat_minor": 5
}
